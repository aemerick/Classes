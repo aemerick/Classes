{
 "metadata": {
  "name": "",
  "signature": "sha256:c6b761c15901cd76013bb9ec242be3540d95fc44b9802fefc5a382781ca6ba14"
 },
 "nbformat": 3,
 "nbformat_minor": 0,
 "worksheets": [
  {
   "cells": [
    {
     "cell_type": "code",
     "collapsed": false,
     "input": [
      "from __future__ import division, print_function\n",
      "\n",
      "# Third-party\n",
      "from matplotlib.colors import LogNorm\n",
      "import matplotlib.pyplot as plt\n",
      "import numpy as np\n",
      "%matplotlib inline\n",
      "\n",
      "# Custom\n",
      "import gary.dynamics as gd\n",
      "import gary.integrate as gi\n",
      "import gary.io as io\n",
      "import gary.potential as gp\n",
      "from gary.units import galactic"
     ],
     "language": "python",
     "metadata": {},
     "outputs": [],
     "prompt_number": 1
    },
    {
     "cell_type": "code",
     "collapsed": false,
     "input": [
      "def leapfrog_integrate(acceleration_func, x0, v0, dt, nsteps, t1=0., args=()):\n",
      "    \"\"\" A simple implementation of Leapfrog integration \n",
      "    \n",
      "    Parameters\n",
      "    ----------\n",
      "    acceleration_func : callable\n",
      "        A function that computes the acceleration at a given position.\n",
      "    x0 : numpy.ndarray\n",
      "        Initial position(s).\n",
      "    v0 : numpy.ndarray\n",
      "        Initial velocity(s).\n",
      "    dt : numeric\n",
      "        Timestep.\n",
      "    nsteps : int\n",
      "        Number of steps to run for.\n",
      "    t1 : numeric (optional)\n",
      "        Initial time.\n",
      "    args : iterable (optional)\n",
      "        Any other arguments the acceleration function takes.\n",
      "        \n",
      "    Returns\n",
      "    -------\n",
      "    t : numpy.ndarray\n",
      "        Array of times.\n",
      "    x : numpy.ndarray\n",
      "        Array of positions.\n",
      "    v : numpy.ndarray\n",
      "        Array of velocities.\n",
      "    \"\"\"\n",
      "    \n",
      "    # ensure that the initial conditions are arrays and at least 2D\n",
      "    x0 = np.atleast_2d(x0).copy()\n",
      "    v0 = np.atleast_2d(v0).copy()\n",
      "    norbits,ndim = x0.shape\n",
      "    \n",
      "    # wrapper around the acceleration function so we can call it with just the position, x\n",
      "    acc = lambda t,x: acceleration_func(t,x,*args)\n",
      "    \n",
      "    all_x = np.zeros((nsteps,norbits,ndim))\n",
      "    all_v = np.zeros((nsteps,norbits,ndim))\n",
      "    t = np.zeros(nsteps)\n",
      "    \n",
      "    all_x[0] = x0\n",
      "    all_v[0] = v0\n",
      "    \n",
      "    # velocity at 1/2 step \n",
      "    v_iminus1_2 = v0 + acc(t1, x0)*dt/2.\n",
      "    x_iminus1 = x0.copy()\n",
      "    for i in range(1,nsteps):\n",
      "        t[i] = t[i-1] + dt\n",
      "        x_i = x_iminus1 + v_iminus1_2*dt # full step\n",
      "        a_i = acc(t[i], x_i)\n",
      "        v_i = v_iminus1_2 + a_i*dt/2. # half step\n",
      "        v_iplus1_2 = v_i + a_i*dt/2. # half step\n",
      "        \n",
      "        all_x[i] = x_i\n",
      "        all_v[i] = v_i\n",
      "        \n",
      "        x_iminus1 = x_i\n",
      "        v_iminus1_2 = v_iplus1_2\n",
      "    \n",
      "    return t, all_x, all_v"
     ],
     "language": "python",
     "metadata": {},
     "outputs": [],
     "prompt_number": 2
    },
    {
     "cell_type": "code",
     "collapsed": false,
     "input": [
      "# Background potential -- Isochrone\n",
      "def bg_val(xy):\n",
      "    r = np.sqrt(np.sum(xy**2, axis=-1))\n",
      "    return -1./(1+np.sqrt(1+r**2))\n",
      "\n",
      "def bg_acc(xy):\n",
      "    r = np.sqrt(np.sum(xy**2, axis=-1))\n",
      "    fac = -r/np.sqrt(1+r**2)/(1 + np.sqrt(1+r**2))**2\n",
      "    return fac[:,np.newaxis]*xy/r[:,np.newaxis]"
     ],
     "language": "python",
     "metadata": {},
     "outputs": [],
     "prompt_number": 5
    },
    {
     "cell_type": "code",
     "collapsed": false,
     "input": [
      "# Bar potential\n",
      "def bar_val(t, xy, epsilon, Omega, a):\n",
      "    x,y = xy.T\n",
      "    r = np.sqrt(x**2 + y**2)\n",
      "    phi = np.arctan2(y,x)\n",
      "    \n",
      "    ra = r/a\n",
      "    val = np.zeros_like(r)\n",
      "    \n",
      "    val_in = -0.53 * epsilon * ra**2 * (1 - 2.5*ra**2 + 2.1875*ra**4 - 0.65625*ra**6) * np.cos(2*(phi - Omega*t))\n",
      "    val_out = 0.017*epsilon/ra**4 * np.cos(2*(phi - Omega*t))\n",
      "    val[r < a] = val_in[r < a]\n",
      "    val[r >= a] = val_out[r >= a]\n",
      "    return epsilon*val + bg_val(xy)\n",
      "\n",
      "def bar_acc(t, xy, epsilon, Omega, a, ramp=True):\n",
      "    x,y = xy.T\n",
      "    r = np.sqrt(x**2 + y**2)\n",
      "    phi = np.arctan2(y,x)\n",
      "    \n",
      "    e0 = epsilon\n",
      "    if t < 1000.:\n",
      "        epsilon = e0/1000. * t\n",
      "    \n",
      "    ra = r/a\n",
      "        \n",
      "    psi_in = -0.53 * ra**2 * (1 - 2.5*ra**2 + 2.1875*ra**4 - 0.65625*ra**6)\n",
      "    psi_out = 0.017/ra**4\n",
      "    dPhi_dr_in = np.cos(2*(phi - Omega*t)) * -0.53 * (2*ra * (1 - 2.5*ra**2 + 2.1875*ra**4 - 0.65625*ra**6) + ra**2 * (-5*ra + 4*2.1875*ra**3 - 6*0.65625*ra**5))/a \n",
      "    dPhi_dr_out = np.cos(2*(phi - Omega*t)) * -4*0.017/ra**3*a\n",
      "    \n",
      "    dPhi_dx_in = dPhi_dr_in*x/r - 2*psi_in*np.sin(2*(phi - Omega*t))*(-y/r**2)\n",
      "    dPhi_dy_in = dPhi_dr_in*y/r - 2*psi_in*np.sin(2*(phi - Omega*t))*(x/r**2) \n",
      "    dPhi_dx_out = dPhi_dr_out*x/r - 2*psi_out*np.sin(2*(phi - Omega*t))*(-y/r**2)\n",
      "    dPhi_dy_out = dPhi_dr_out*y/r - 2*psi_out*np.sin(2*(phi - Omega*t))*(x/r**2) \n",
      "    \n",
      "    grad = np.zeros_like(xy)\n",
      "    grad[r<a,0] = dPhi_dx_in[r<a]\n",
      "    grad[r<a,1] = dPhi_dy_in[r<a]\n",
      "    grad[r>=a,0] = dPhi_dx_out[r>=a]\n",
      "    grad[r>=a,1] = dPhi_dy_out[r>=a]\n",
      "    return -epsilon*grad + bg_acc(xy)"
     ],
     "language": "python",
     "metadata": {},
     "outputs": [],
     "prompt_number": 6
    },
    {
     "cell_type": "code",
     "collapsed": false,
     "input": [
      "# function to compute the circular velocity from the isochrone potential at a given radius\n",
      "def vc(r):\n",
      "    dPhi_dr = r/np.sqrt(1+r**2)/(1 + np.sqrt(1+r**2))**2\n",
      "    return np.sqrt(r * dPhi_dr)"
     ],
     "language": "python",
     "metadata": {},
     "outputs": [],
     "prompt_number": 7
    },
    {
     "cell_type": "code",
     "collapsed": false,
     "input": [
      "# random initial conditions on circular orbits\n",
      "nstars = 1000\n",
      "\n",
      "# generate initial conditions in cylindrical coordinates\n",
      "R = np.sqrt(np.random.uniform(0,4**2,size=nstars))\n",
      "phi = np.random.uniform(0,2*np.pi,size=nstars)\n",
      "vR = np.zeros_like(R)\n",
      "vphi = vc(R)\n",
      "\n",
      "# convert to cartesian\n",
      "x0 = np.array([R*np.cos(phi), R*np.sin(phi)]).T.copy()\n",
      "v0 = np.array([-vphi*np.sin(phi), vphi*np.cos(phi)]).T.copy()\n",
      "\n",
      "plt.figure(figsize=(6,6))\n",
      "plt.plot(x0[:,0], x0[:,1], linestyle='none')\n",
      "plt.xlim(-5,5)\n",
      "plt.ylim(-5,5)\n",
      "plt.xlabel(r\"$x\\,[{\\rm kpc}]$\")\n",
      "plt.ylabel(r\"$y\\,[{\\rm kpc}]$\")"
     ],
     "language": "python",
     "metadata": {},
     "outputs": [
      {
       "metadata": {},
       "output_type": "pyout",
       "prompt_number": 8,
       "text": [
        "<matplotlib.text.Text at 0x10a435610>"
       ]
      },
      {
       "metadata": {},
       "output_type": "display_data",
       "png": "[encoded data removed]",
       "text": [
        "<matplotlib.figure.Figure at 0x10a4115d0>"
       ]
      }
     ],
     "prompt_number": 8
    },
    {
     "cell_type": "code",
     "collapsed": false,
     "input": [
      "# integrate orbits\n",
      "t,x,v = leapfrog_integrate(bar_acc, x0, v0, dt=0.5, nsteps=20000,\n",
      "                           args=(0.1, 0.3, 2.5))"
     ],
     "language": "python",
     "metadata": {},
     "outputs": [],
     "prompt_number": 28
    },
    {
     "cell_type": "code",
     "collapsed": false,
     "input": [
      "plt.figure(figsize=(5,5))\n",
      "plt.plot(x[-1,:,0], x[-1,:,1], marker='.', alpha=0.5, linestyle='none')\n",
      "plt.xlim(-5,5)\n",
      "plt.ylim(-5,5)"
     ],
     "language": "python",
     "metadata": {},
     "outputs": [
      {
       "metadata": {},
       "output_type": "pyout",
       "prompt_number": 29,
       "text": [
        "(-5, 5)"
       ]
      },
      {
       "metadata": {},
       "output_type": "display_data",
       "png": "[encoded data removed]",
       "text": [
        "<matplotlib.figure.Figure at 0x114b521d0>"
       ]
      }
     ],
     "prompt_number": 29
    },
    {
     "cell_type": "code",
     "collapsed": false,
     "input": [],
     "language": "python",
     "metadata": {},
     "outputs": []
    }
   ],
   "metadata": {}
  }
 ]
}