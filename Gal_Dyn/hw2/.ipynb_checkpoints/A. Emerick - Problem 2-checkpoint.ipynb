{
 "metadata": {
  "name": "",
  "signature": "sha256:0bef856a1d567f181a0eeee5926a4a225963fe2f8fe5936afe87cfe4013de22b"
 },
 "nbformat": 3,
 "nbformat_minor": 0,
 "worksheets": [
  {
   "cells": [
    {
     "cell_type": "heading",
     "level": 3,
     "metadata": {},
     "source": [
      "Problem 1: Leapfrog Integrator"
     ]
    },
    {
     "cell_type": "code",
     "collapsed": false,
     "input": [
      "# imports\n",
      "import numpy as np\n",
      "import matplotlib.pyplot as plt\n",
      "from astropy import units as u\n",
      "import pandas as pd\n",
      "from pandas.tools.plotting import scatter_matrix\n",
      "from mpl_toolkits.mplot3d import Axes3D\n",
      "from scipy import signal\n",
      "%matplotlib inline  \n",
      "\n",
      "GCGS = 6.67259E-8 # cgs units\n",
      "GCONST = GCGS * (1.0/3.086E21)**3.0 * (1.99E33) # now in kpc^3 M_sun^-1 s^-2"
     ],
     "language": "python",
     "metadata": {},
     "outputs": [],
     "prompt_number": 1
    },
    {
     "cell_type": "markdown",
     "metadata": {},
     "source": [
      "The block of code below declares the standard leapfrog integration scheme that I coded for part 1 of the problem set"
     ]
    },
    {
     "cell_type": "code",
     "collapsed": false,
     "input": [
      "def leapfrog_integrate(acceleration_func, x0, v0, dt, nsteps, args=(), accel = False):\n",
      "    \"\"\"\n",
      "       Accepts a general acceleration function with additional arguments supplied\n",
      "       by args. Integrates this function in the leapfrog scheme given initial conditions\n",
      "       on x0 and v0, the specified timestep dt, and the number of steps to integrate. An array\n",
      "       of initial conditions can be passed to integrate multiple orbits.\n",
      "       \n",
      "    Parameters\n",
      "    ---\n",
      "       acceleration_func : function\n",
      "           acceleration function with additional arguments args()\n",
      "       x0 : float, array\n",
      "           float or array of initial positions/ Must be same size as v0\n",
      "       v0 : float, array\n",
      "           float or array of initial velocities. Must be same size as x0\n",
      "       dt : float\n",
      "           fixed time step size\n",
      "       nsteps : int\n",
      "           number of time steps to go through\n",
      "       accel : optional, bool\n",
      "           If true, returns the values of acceleration at each sampled x. Default is False\n",
      "    Returns\n",
      "    ---\n",
      "       x : array\n",
      "           Solved position of orbit\n",
      "       v  :array\n",
      "           solved velocity of orbit\n",
      "       a : array \n",
      "           If accel is true, returns acceleration at each point of orbit\n",
      "    \"\"\"\n",
      "    \n",
      "    # get the function to integrate\n",
      "    a = lambda x: acceleration_func(x, *args)\n",
      "    \n",
      "    # now do some cool things\n",
      "    ninit = np.size(x0)\n",
      "    if not ninit == np.size(v0):\n",
      "        print \"ERROR: must have same number of initial conditions on x and v\"\n",
      "        return 0.\n",
      "    \n",
      "    x, v = np.zeros((ninit,nsteps)), np.zeros((ninit,nsteps))\n",
      "                             \n",
      "    # set the initial conditions\n",
      "    x[:,0] = x0\n",
      "    v[:,0] = v0\n",
      "\n",
      "    # now integrate! This is the synchronized method where x and v step forward together in\n",
      "    # time, rather than v moving in half-steps\n",
      "    # this is an array style operation where it steps through all initial conditions together.\n",
      "    for i in np.arange(nsteps - 1) + 1:\n",
      "        \n",
      "        x[:,i] = x[:,i-1] + v[:,i-1] * dt + 0.5 * a(x[:,i-1]) * dt**2\n",
      "        v[:,i] = v[:,i-1] + 0.5*(a(x[:,i-1]) + a(x[:,i])) * dt\n",
      "        \n",
      "    # return\n",
      "    if accel:\n",
      "        return x, v, a(x)\n",
      "    else:\n",
      "        return x, v\n",
      "\n",
      "def SHO_acceleration(x, w):\n",
      "    \"\"\"\n",
      "        spherical harmonic potential 0.5 * w**2 * x**2\n",
      "        g = - grad(potential)\n",
      "          = - 0.5 * w**2 * 2 * x\n",
      "          = - w**2 * x\n",
      "    \"\"\"\n",
      "    \n",
      "    acc = - x * w * w\n",
      "    return acc\n",
      "    \n",
      "    \n"
     ],
     "language": "python",
     "metadata": {},
     "outputs": [],
     "prompt_number": 2
    },
    {
     "cell_type": "markdown",
     "metadata": {},
     "source": [
      "The code below is the acceleration function and leapfrog integrator I coded for doing the orbits in the MW potential later on in the assignment. The leapfrog here is the same as the above, but now is hard coded for 3D. Obviously a nicer way of doing this would have been to make a function that takes an arbirary number of dimensions, but I was lazy."
     ]
    },
    {
     "cell_type": "code",
     "collapsed": false,
     "input": [
      "def miyamoto_nagai_accel(x, y, z, coord, M = 24.0E10, a = 7.258, b = 0.520):\n",
      "    \"\"\"\n",
      "    Gravitational acceleration in the Miyamoto Nagai analytic potential. M, a, and b are fit constants\n",
      "    to the potential.\n",
      "    \n",
      "    x, y, z are the position at which to calculate the acceleration due to the potential.\n",
      "    \n",
      "    \"coord\" cooresponds to along which axis/direction to calculte the potential (\"x\", \"y\", \"z\")\n",
      "    \"\"\"\n",
      "    \n",
      "    \n",
      "    denominator = (x**2 + y**2 + (a + (z**2 + b**2)**0.5)**2 )**(3.0/2.0)\n",
      "    \n",
      "    if coord == 'x':\n",
      "        \n",
      "        g = M*x / denominator\n",
      "        \n",
      "    elif coord == 'y':\n",
      "        \n",
      "        g = M*y / denominator\n",
      "        \n",
      "    elif coord == 'z':\n",
      "        \n",
      "        g = (M*z/denominator) * (a + (z**2 + b**2)**0.5) / (z**2 + b**2)**0.5\n",
      "        \n",
      "        \n",
      "    return - 1.0 * g * GCONST \n",
      "        \n",
      "    \n",
      "def leapfrog_integrate_3d(acceleration_func, x0, y0, z0, vx0, vy0, vz0, \n",
      "                         dt, nsteps, args=()):\n",
      "    \"\"\"\n",
      "       Accepts a general acceleration function with additional arguments supplied\n",
      "       by args. Integrates this function in the leapfrog scheme given initial conditions\n",
      "       on x0 and v0, the specified timestep dt, and the number of steps to integrate. An array\n",
      "       of initial conditions can be passed to integrate multiple orbits.\n",
      "       \n",
      "    Parameters\n",
      "    ---\n",
      "       acceleration_func : function\n",
      "           acceleration function with additional arguments args()\n",
      "       x0 : float, array\n",
      "           float or array of initial positions/ Must be same size as v0\n",
      "       v0 : float, array\n",
      "           float or array of initial velocities. Must be same size as x0\n",
      "       dt : float\n",
      "           fixed time step size\n",
      "       nsteps : int\n",
      "           number of time steps to go through\n",
      "       accel : optional, bool\n",
      "           If true, returns the values of acceleration at each sampled x. Default is False\n",
      "    Returns\n",
      "    ---\n",
      "       x : array\n",
      "           Solved position of orbit\n",
      "       v  :array\n",
      "           solved velocity of orbit\n",
      "       a : array \n",
      "           If accel is true, returns acceleration at each point of orbit\n",
      "    \"\"\"\n",
      "    \n",
      "    # get the acceleration function\n",
      "    a = lambda x, y, z, coord: acceleration_func(x, y, z, coord, *args)\n",
      "    \n",
      "    # make sure \n",
      "    ninit = np.size(x0)\n",
      "    if ninit != np.size(vx0) or ninit != np.size(y0) or ninit != np.size(z0)\\\n",
      "         or ninit != np.size(vy0) or ninit != np.size(vz0):\n",
      "        print \"ERROR: must have same number of initial conditions on all position and velocity vectors\"\n",
      "        return \n",
      "    \n",
      "    # initialize the final arrays\n",
      "    x, vx = np.zeros((ninit,nsteps)), np.zeros((ninit,nsteps))\n",
      "    y, vy = np.zeros((ninit,nsteps)), np.zeros((ninit,nsteps))\n",
      "    z, vz = np.zeros((ninit,nsteps)), np.zeros((ninit,nsteps))\n",
      "                             \n",
      "    # set the initial conditions for position and velocity\n",
      "    x [:,0] =  x0\n",
      "    vx[:,0] = vx0\n",
      "    y [:,0] =  y0\n",
      "    vy[:,0] = vy0\n",
      "    z [:,0] =  z0\n",
      "    vz[:,0] = vz0\n",
      "\n",
      "    # now integrate! This is the synchronized method where x and v step forward together in\n",
      "    # time, rather than v moving in half-steps\n",
      "    # this is an array style operation where it steps through all initial conditions together.\n",
      "    for i in np.arange(nsteps - 1) + 1:\n",
      "        \n",
      "        \n",
      "        x[:,i]  =  x[:,i-1] + vx[:,i-1] * dt +\\\n",
      "                          0.5 * a( x[:,i-1], y[:,i-1], z[:,i-1], 'x') * dt**2\n",
      "            \n",
      "        vx[:,i] = vx[:,i-1] +\\\n",
      "                          0.5*( a( x[:,i-1], y[:,i-1], z[:,i-1], 'x') +\\\n",
      "                                a(   x[:,i],   y[:,i],   z[:,i], 'x') ) * dt\n",
      "            \n",
      "        y[:,i]  =  y[:,i-1] + vy[:,i-1] * dt +\\\n",
      "                          0.5 * a( x[:,i-1], y[:,i-1], z[:,i-1], 'y') * dt**2\n",
      "            \n",
      "        vy[:,i] = vy[:,i-1] +\\\n",
      "                          0.5*( a( x[:,i-1], y[:,i-1], z[:,i-1], 'y') +\\\n",
      "                                a(   x[:,i],   y[:,i],   z[:,i], 'y') ) * dt\n",
      "            \n",
      "        z[:,i]  =  z[:,i-1] + vz[:,i-1] * dt +\\\n",
      "                          0.5 * a( x[:,i-1], y[:,i-1], z[:,i-1], 'z') * dt**2\n",
      "            \n",
      "        vz[:,i] = vz[:,i-1] +\\\n",
      "                          0.5*( a( x[:,i-1], y[:,i-1], z[:,i-1], 'z') +\\\n",
      "                                a(   x[:,i],   y[:,i],   z[:,i], 'z') ) * dt\n",
      "        \n",
      "\n",
      "    return x, y, z, vx, vy, vz"
     ],
     "language": "python",
     "metadata": {},
     "outputs": [],
     "prompt_number": 3
    },
    {
     "cell_type": "code",
     "collapsed": false,
     "input": [],
     "language": "python",
     "metadata": {},
     "outputs": [],
     "prompt_number": 3
    },
    {
     "cell_type": "code",
     "collapsed": false,
     "input": [
      "# testing out the simple 1D integrator with the SHO potential \n",
      "w = 2\n",
      "\n",
      "# testing on multiple initial points\n",
      "x0 = np.array([1., 2.0,1.0, 1.5])\n",
      "v0 = np.array([0., 0.,1.0, 2.])\n",
      "\n",
      "x, v, a = leapfrog_integrate(SHO_acceleration, args=(w,),\n",
      "                           x0 = x0, v0 = v0,\n",
      "                           dt = 0.2, nsteps = 10000, accel = True)\n",
      "fig = plt.figure(111,figsize = [6,6])\n",
      "plt.subplot(111,aspect='equal')\n",
      "\n",
      "for i in np.arange(np.size(x0)):\n",
      "    plt.plot(x[i],v[i])\n",
      "\n",
      "plt.xlim(-4,4)\n",
      "plt.ylim(-4,4)\n",
      "plt.xlabel('x')\n",
      "plt.ylabel(r'p$_x$')\n"
     ],
     "language": "python",
     "metadata": {},
     "outputs": [
      {
       "metadata": {},
       "output_type": "pyout",
       "prompt_number": 4,
       "text": [
        "<matplotlib.text.Text at 0x7fc04a2d4210>"
       ]
      },
      {
       "metadata": {},
       "output_type": "display_data",
       "png": "[encoded data removed]",
       "text": [
        "<matplotlib.figure.Figure at 0x7fc04a2cbe90>"
       ]
      }
     ]
    },
    {
     "cell_type": "heading",
     "level": 2,
     "metadata": {},
     "source": [
      "Choosing an Analytic Potential for the MW"
     ]
    },
    {
     "cell_type": "markdown",
     "metadata": {},
     "source": [
      "I am choosing a simple Miyamoto & Nagai (1975) potential as given in BT 2.69a, or\n",
      "\n",
      "$$\n",
      "\\Phi_M(R,z) = - \\frac{GM}{\\sqrt{R^2 + \\left(a + \\sqrt{z^2 + b^2} \\right)^2}}\n",
      "$$\n",
      "\n",
      "where $b$ is the thickness of the galactic disk, $a$ is the dimension of the galaxy, and $M$ is the mass of the galaxy. This potential represents a reasonable and tractable form of the potential of a disk, like that of our Milky Way. It is nice because, with the paramaters a and b, it is a general potential that can cover a range of structure shapes from spherical (a=0) to a flat disk (b=0).\n",
      "\n",
      "By definition, the circular velocity at any point in the disk (z=0) of this potential is given as\n",
      "$$\n",
      "v^{2}_{c} = r \\frac{d\\Phi_M(R,0)}{dr}.\n",
      "$$\n",
      "\n",
      "Doing some maths, the expression for the velocity curve is given as\n",
      "\n",
      "$$\n",
      "v_c^2 = \\frac{GMR^2}{\\left(R^2 + \\left(a+b\\right)^2\\right)^{3/2}}\n",
      "$$\n",
      "\n",
      "which can be re-arranged as\n",
      "\n",
      "$$\n",
      "\\frac{v_c}{\\sqrt{\\frac{GM}{a+b}}} = \\frac{x}{\\left(x^2+1\\right)^{3/4}}\n",
      "$$\n",
      "\n",
      "where $x = R / (a+b)$.\n"
     ]
    },
    {
     "cell_type": "code",
     "collapsed": false,
     "input": [
      "def vc_MN(x):\n",
      "    vc = x / ((x**2+1)**(3.0/4.0))\n",
      "    \n",
      "    return vc\n",
      "\n",
      "x = np.linspace(0.01,100,1E6)\n",
      "y = vc_MN(x)\n",
      "\n",
      "plt.plot(x,y)\n",
      "plt.xlabel('R/(a+b)')\n",
      "plt.ylabel(r'v$_c$/(GM/(a+b))$^{0.5}$')\n",
      "plt.semilogx()"
     ],
     "language": "python",
     "metadata": {},
     "outputs": [
      {
       "metadata": {},
       "output_type": "pyout",
       "prompt_number": 5,
       "text": [
        "[]"
       ]
      }
     ]
    },
    {
     "cell_type": "markdown",
     "metadata": {},
     "source": [
      "This choice of potential has three free parameters, the mass of the disk component of the galaxy, the scale factor $a$, and the disk height $b$. I will just take the values of v$_c$ at R$_o$ given in Binney and Merrifield, where v$_c$(R$_o$) = 218 km/s and R$_o$ = 8.0 kpc. This may not be the best choice, but it is a simple choice. Since fitting three free parameters in the velocity curve to match a single point (by eye) is kind of silly, I use $M$, $a$, and $b$ from Miyamoto & Nagai 1975 as a starting point and mess around from there. This is imperfect, however, as their parameters from the disk came from a two-compenent potential that had three parameters for the bulge, and three parameters for the disk. In addition, their constraint on the disk is slightly different, as they were fitting to v$_c$ = 250 km/s at R = 10 kpc. \n",
      "\n",
      "The default parameter values (in M$_{\\odot}$ and kpc) from Miyamoto & Nagai 1975 are given as the default parameters in the function below. To fit the curve to the sun's velocity and position, I just played around with the mass until I got something to look right. See the plot below."
     ]
    },
    {
     "cell_type": "code",
     "collapsed": false,
     "input": [
      "\n",
      "\n",
      "def vc_MN_fit(R, M = 25.47E10, a = 7.258 , b = 0.520):\n",
      "    \"\"\"\n",
      "    M is in units of solar masses\n",
      "    a and b are in kpc.\n",
      "    The defaults are taken from MN1975\n",
      "    \"\"\"\n",
      "    \n",
      "\n",
      "    \n",
      "    vc = GCONST*M*R**2 / (R**2 + (a+b)**2)**(3/2.0)\n",
      "    \n",
      "    \n",
      "    return (vc**0.5) * (3.086E16) \n",
      "\n",
      "\n",
      "R = np.linspace(0.0,30.0,1000.0)\n",
      "vc = vc_MN_fit(R, M = 24.0E10, a = 7.258, b = 0.520)\n",
      "\n",
      "plt.plot(R,vc,lw=1.5)\n",
      "plt.xlabel('R (kpc)')\n",
      "plt.ylabel(r'v$_c$ (km/s)')\n",
      "plt.plot([8,8],plt.ylim(),color='black',lw=1.5)\n",
      "plt.plot(plt.xlim(),[218,218],color='black',lw=1.5)"
     ],
     "language": "python",
     "metadata": {},
     "outputs": []
    },
    {
     "cell_type": "markdown",
     "metadata": {},
     "source": [
      "The black lines in the above denote the solar position and velocity that I am \"fitting\" to. The result isn't bad with my parameters, which are\n",
      "\n",
      "$$\n",
      "M = 2.4 \\times 10^{11}~ M_{\\odot}\\\\\n",
      "a = 7.258~ kpc\\\\\n",
      "b = 0.520~ kpc\n",
      "$$\n",
      "\n",
      "The resulting velocity curve is an O.K. approximation to the real velocity curve of the MW disk within the solar neighborhood. Deviating far from the neighborhood gets you in trouble, however. Obviously the lack of a bulge component to the potential causes problems towards low radii, but since we just care about the disk I'll ignore this. The dropoff towards GC seems a little too steep, but the primary problem is beyond the sun. The velocity curve drops off gradually here, but a realistic curve would be flattened. at larger radii. "
     ]
    },
    {
     "cell_type": "heading",
     "level": 2,
     "metadata": {},
     "source": [
      "Problem 3: Hipparcos stuffs"
     ]
    },
    {
     "cell_type": "code",
     "collapsed": false,
     "input": [
      "fname = 'hipparcos_rv.txt'\n",
      "\n",
      "raw_data = np.genfromtxt(fname, names=True)\n",
      "# make initial cuts of positive non-zero parallax, and no binaries\n",
      "selection = (raw_data['parallax'] > 0.0) *\\\n",
      "            (raw_data['multiplicity_flag'] == 0.0)\n",
      "data = raw_data[selection]\n",
      "\n",
      "# now make further cuts based upon relative uncertainties of \n",
      "# parallax and proper motion in l and b\n",
      "selection = (data['err_parallax']/data['parallax'] < 0.05)*\\\n",
      "            (data['err_mu_l']    /data['mu_l']     < 0.05)*\\\n",
      "            (data['err_mu_b']    /data['mu_b']     < 0.05)\n",
      "\n",
      "# make a cut... only want stars with rv values\n",
      "selection = selection * (np.invert( np.isnan(data['rv'])))\n",
      "\n",
      "cut_data = data[selection]\n",
      "print np.size(cut_data)\n"
     ],
     "language": "python",
     "metadata": {},
     "outputs": []
    },
    {
     "cell_type": "markdown",
     "metadata": {},
     "source": [
      "The cuts to the Hipparcos data reduce the sample to 3784 stars. You say there should be 3880. I'm assuming the ~100 star difference won't make a difference "
     ]
    },
    {
     "cell_type": "code",
     "collapsed": false,
     "input": [
      "\n",
      "def uvw(l, b, mu_l, mu_b, parallax, rv, \n",
      "        lsr_vel = np.array([11.1,12.24,7.25]) * u.km / u.second,\n",
      "        vc   = 218. * u.km / u.second,\n",
      "        xsun = np.array([-8.0,0.0,0.0]) * u.kpc ):\n",
      "    \"\"\"\n",
      "    This function converts observed stellar position (galactic longitude and latitude) and observed proper motion\n",
      "    (in galactic longitude and latitude), along with the parallax and radial velocity, and converts them to \n",
      "    galactocentric cartesian position and velocities. The LSR velocity, circular velocity, and position of the sun\n",
      "    is used to do this, with the default values set to a simple case where the sun is in the plane (z=0).\n",
      "    \"\"\"\n",
      "   \n",
      "    ## do some conversions now\n",
      "    l = l * u.degree\n",
      "    b = b * u.degree\n",
      "    parallax = parallax * u.marcsec\n",
      "    mu_l = mu_l * u.marcsec / u.year\n",
      "    mu_b = mu_b * u.marcsec / u.year\n",
      "    rv = rv * u.km / u.second\n",
      "    \n",
      "    # do some necessary unit conversions\n",
      "    d = parallax.to(u.km, equivalencies=u.parallax())\n",
      "    b = (90.*u.degree - b).to(u.radian)\n",
      "    l = l.to(u.radian)\n",
      "    mu_l = mu_l.to(u.radian / u.second)\n",
      "    mu_b = mu_b.to(u.radian / u.second)\n",
      "    rv   = rv.to(u.km / u.second)\n",
      "    \n",
      "    # cos and sin of l and b to make things easier\n",
      "    cosl = np.cos(l) * np.sign(l)\n",
      "    cosb = np.cos(b) * np.sign(b)\n",
      "    sinl = np.sin(l)\n",
      "    sinb = np.sin(b) \n",
      "    \n",
      "    # now convert everything to heliocentric cartesian\n",
      "    x = (d * sinb * cosl).to(u.kpc)\n",
      "    y = (d * sinb * sinl).to(u.kpc)\n",
      "    z = (d * cosb       ).to(u.kpc) \n",
      "    \n",
      "    vx = cosl*sinb*rv -\\\n",
      "         (d*sinl*sinb*mu_l).to(d.unit/u.second,equivalencies=u.dimensionless_angles()) +\\\n",
      "         (d*cosl*cosb*mu_b).to(d.unit/u.second,equivalencies=u.dimensionless_angles())\n",
      "    vy = sinl*sinb*rv +\\\n",
      "         (d*sinb*cosl*mu_l).to(d.unit/u.second,equivalencies=u.dimensionless_angles()) +\\\n",
      "         (d*sinl*cosb*mu_b).to(d.unit/u.second,equivalencies=u.dimensionless_angles())\n",
      "    vz =      cosb*rv                    +\\\n",
      "         (d*     sinb*mu_b).to(d.unit/u.second,equivalencies=u.dimensionless_angles())\n",
      "    \n",
      "    # now convert from heliocentric to galactocentric\n",
      "    # \n",
      "    \n",
      "    x = x + xsun[0]; y = y + xsun[1]; z = z + xsun[2]\n",
      "    vx = vx + lsr_vel[0]\n",
      "    vy = vy + lsr_vel[1] + vc\n",
      "    vz = vz + lsr_vel[2]\n",
      "    \n",
      "    \n",
      "    \n",
      "    return x,y,z, vx,vy,vz\n",
      "    \n",
      "    \n",
      "    "
     ],
     "language": "python",
     "metadata": {},
     "outputs": []
    },
    {
     "cell_type": "code",
     "collapsed": false,
     "input": [
      "# do the coordinate transformation\n",
      "x,y,z,vx,vy,vz = uvw(cut_data['l'], cut_data['b'], \n",
      "                     cut_data['mu_l'], cut_data['mu_b'],\n",
      "                     cut_data['parallax'], cut_data['rv'], vc = 240.0, xsun=np.array([-8.3,0.,0.]))"
     ],
     "language": "python",
     "metadata": {},
     "outputs": []
    },
    {
     "cell_type": "heading",
     "level": 4,
     "metadata": {},
     "source": [
      "Position Plots"
     ]
    },
    {
     "cell_type": "code",
     "collapsed": false,
     "input": [
      "fig = plt.figure(figsize = [18,6])\n",
      "alpha = 0.25\n",
      "size = 10.\n",
      "\n",
      "xsun = -8.0\n",
      "\n",
      "ax1 = fig.add_subplot(131)\n",
      "ax1.scatter(x.value,y.value, alpha=alpha, s= size)\n",
      "ax1.set_xlabel('x [kpc]'); ax1.set_ylabel('y [kpc]')\n",
      "ax1.set_ylim(-.10,.10)\n",
      "ax1.set_xlim(xsun - 0.1, xsun + 0.1)\n",
      "\n",
      "ax2 = fig.add_subplot(132)\n",
      "ax2.scatter(x.value,z.value, alpha=alpha, s = size)\n",
      "ax2.set_xlabel('x [kpc]'); ax2.set_ylabel('z [kpc]')\n",
      "ax2.set_xlim(xsun - 0.1, xsun + 0.1)\n",
      "ax2.set_ylim(-.10,.10)\n",
      "\n",
      "\n",
      "ax3 = fig.add_subplot(133)\n",
      "ax3.scatter(y.value,z.value,alpha = alpha, s = size)\n",
      "ax3.set_xlabel('y [kpc]'); ax3.set_ylabel('z [kpc]')\n",
      "ax3.set_xlim(-.10,.10)\n",
      "ax3.set_ylim(-.10,.10)\n"
     ],
     "language": "python",
     "metadata": {},
     "outputs": []
    },
    {
     "cell_type": "markdown",
     "metadata": {},
     "source": [
      "The density of points in these plots is noticeably greater in the vicinity of the solar neighborhood, and decreases farther away. This is readily explained as an observational bias, as we are limited as to what stars we can obtain accurate parallax measurements for. In the (x,y) plot, there is a slight skew in the distribution, but I am not entirely sure why this is the case, likely again an observational bias. The skew is more noticeable in (y,z)."
     ]
    },
    {
     "cell_type": "heading",
     "level": 4,
     "metadata": {},
     "source": [
      "Velocity Plots"
     ]
    },
    {
     "cell_type": "code",
     "collapsed": false,
     "input": [
      "fig = plt.figure(figsize = [18,6])\n",
      "alpha = 0.25\n",
      "size = 10.\n",
      "\n",
      "xsun = -8.0\n",
      "\n",
      "ax1 = fig.add_subplot(131)\n",
      "ax1.scatter(vx.value, vy.value, alpha=alpha, s= size)\n",
      "ax1.set_xlabel(r'vx [km s$^{-1}$]'); ax1.set_ylabel(r'vy [km s$^{-1}$]')\n",
      "ax1.set_ylim(70,370)\n",
      "ax1.set_xlim(-150,150)\n",
      "\n",
      "ax2 = fig.add_subplot(132)\n",
      "ax2.scatter(vx.value,vz.value, alpha=alpha, s = size)\n",
      "ax2.set_xlabel(r'vx [km s$^{-1}$]'); ax2.set_ylabel(r'vz [km s$^{-1}$]')\n",
      "ax2.set_xlim(-150,150)\n",
      "ax2.set_ylim(-150,150)\n",
      "\n",
      "\n",
      "ax3 = fig.add_subplot(133)\n",
      "ax3.scatter(vy.value,vz.value,alpha = alpha, s = size)\n",
      "ax3.set_xlabel(r'vy [km s$^{-1}$]'); ax3.set_ylabel(r'vz [km s$^{-1}$]')\n",
      "ax3.set_xlim(70,370)\n",
      "ax3.set_ylim(-150,150)"
     ],
     "language": "python",
     "metadata": {},
     "outputs": []
    },
    {
     "cell_type": "heading",
     "level": 2,
     "metadata": {},
     "source": [
      "\n",
      "    \n",
      "    \n",
      "    "
     ]
    },
    {
     "cell_type": "code",
     "collapsed": false,
     "input": [
      "yr = 3.1536000E7\n",
      "dt = yr * 1.0E6 # dt is set at 1 Myr\n",
      "nsteps = yr * 2.0E9 / dt\n",
      "\n",
      "ix, iy, iz, ivx, ivy, ivz =\\\n",
      "    leapfrog_integrate_3d( miyamoto_nagai_accel, x.value, y.value, z.value,\n",
      "                                                vx.to(u.kpc/u.second).value,\n",
      "                                                vy.to(u.kpc/u.second).value,\n",
      "                                                vz.to(u.kpc/u.second).value, dt, nsteps ) \n",
      "    \n",
      "ivx = (ivx * (u.kpc / u.second)).to(u.km/u.second).value\n",
      "ivy = (ivy * (u.kpc / u.second)).to(u.km/u.second).value\n",
      "ivz = (ivz* (u.kpc / u.second)).to(u.km/u.second).value\n",
      "\n"
     ],
     "language": "python",
     "metadata": {},
     "outputs": []
    },
    {
     "cell_type": "code",
     "collapsed": false,
     "input": [
      "for i in np.arange(1000,1005,1):\n",
      "    r = (ix[i]**2 + iy[i]**2)**0.5\n",
      "    \n",
      "    \n",
      "    plt.plot(r, iz[i])\n",
      "\n",
      "plt.xlim(0,plt.xlim()[1])\n",
      "plt.xlabel('R (kpc)')\n",
      "plt.ylabel('z (kpc)')"
     ],
     "language": "python",
     "metadata": {},
     "outputs": []
    },
    {
     "cell_type": "markdown",
     "metadata": {},
     "source": [
      "Plotted in the (R,z) plane, the oribits appear to oscillate "
     ]
    },
    {
     "cell_type": "code",
     "collapsed": false,
     "input": [
      "for i in np.arange(1000,1001,1):\n",
      "    r = (ix[i]**2 + iy[i]**2)**0.5\n",
      "    theta = np.arctan(iy[i]/ix[i])\n",
      "    \n",
      "    plt.plot(r, theta)\n",
      "\n",
      "plt.xlim(0,plt.xlim()[1])\n",
      "plt.ylim(-np.pi, np.pi)"
     ],
     "language": "python",
     "metadata": {},
     "outputs": []
    },
    {
     "cell_type": "code",
     "collapsed": false,
     "input": [
      "# lets plot some orbits in 3D as a sanity check. \n",
      "fig = plt.figure()\n",
      "\n",
      "ax = fig.add_subplot(111, projection='3d')\n",
      "\n",
      "for i in np.arange(1000,1003,1):\n",
      "    ax.plot(ix[i], iy[i], iz[i])\n",
      "\n",
      "\n",
      "    \n",
      "    "
     ],
     "language": "python",
     "metadata": {},
     "outputs": []
    },
    {
     "cell_type": "code",
     "collapsed": false,
     "input": [
      "fig = plt.figure(figsize = [18,6])\n",
      "ax1 = fig.add_subplot(131)\n",
      "ax2 = fig.add_subplot(132)\n",
      "ax3 = fig.add_subplot(133)\n",
      "\n",
      "for i in np.arange(1000,1003,1):\n",
      "    ax1.plot(ix[i],iy[i])\n",
      "    ax2.plot(ix[i],iz[i])\n",
      "    ax3.plot(iy[i],iz[i])\n",
      "\n",
      "\n",
      "ax1.set_xlabel('x')\n",
      "ax1.set_ylabel('y')\n",
      "ax2.set_xlabel('x')\n",
      "ax2.set_ylabel('z')\n",
      "ax3.set_xlabel('y')\n",
      "ax3.set_ylabel('z')"
     ],
     "language": "python",
     "metadata": {},
     "outputs": []
    },
    {
     "cell_type": "markdown",
     "metadata": {},
     "source": [
      "The orbits for all of these stars appear to be loop orbits, meaning that, for each, there is an excluded region around the center of the galaxy in which they will never approach. These stars will never approach the center of the galaxy. Ultimately, the projection of these orbits in the (x,y) plane will be bounded by an inner and outer ellipse. Each star is also limited in its maximum distance from the disc (|z|), as can readily be seen in the (x,z) projection. What this all means is that the orbits are confined to a range of radii from galactic center (seen in (R,z)) and a range of |z|, and oscillate between these over time. I plot surfaces of selection in cartesian coordinates below."
     ]
    },
    {
     "cell_type": "code",
     "collapsed": false,
     "input": [
      "fig = plt.figure(figsize = [18,6])\n",
      "ax1 = fig.add_subplot(131)\n",
      "ax2 = fig.add_subplot(132)\n",
      "ax3 = fig.add_subplot(133)\n",
      "\n",
      "for i in np.arange(1000,1003,1):\n",
      "    ax1.plot(ix[i],ivx[i])\n",
      "    ax2.plot(iy[i],ivy[i])\n",
      "    ax3.plot(iz[i],ivz[i])\n",
      "\n",
      "\n",
      "ax1.set_xlabel('x')\n",
      "ax1.set_ylabel('vx')\n",
      "ax2.set_xlabel('y')\n",
      "ax2.set_ylabel('vy')\n",
      "ax3.set_xlabel('z')\n",
      "ax3.set_ylabel('vz')"
     ],
     "language": "python",
     "metadata": {},
     "outputs": []
    },
    {
     "cell_type": "markdown",
     "metadata": {},
     "source": [
      "The above are surfaces of selection for the selected orbits, comparing x, vx, y, vy, z, vz. Again, these orbits readily appear as loop orbits, with the greatest differences between the orbits visible in the (z,vz) plot."
     ]
    },
    {
     "cell_type": "heading",
     "level": 2,
     "metadata": {},
     "source": [
      "Finding properties of the orbits"
     ]
    },
    {
     "cell_type": "code",
     "collapsed": false,
     "input": [
      "\n",
      "def find_period(pos, dt, t = None, axis=0):\n",
      "    \"\"\"\n",
      "    takes series of positions and time in between each position to find the period\n",
      "    \n",
      "    dt if constant time step sizes between position points\n",
      "    t array of sime size as pos giving the time at each position for an arbirary dt.\n",
      "    \n",
      "    \"\"\"\n",
      "           \n",
      "    index_maxima = signal.argrelmax(pos, axis=axis)\n",
      "    \n",
      "    if np.size(t) == np.size(pos):\n",
      "        time    = t[index_maxima]\n",
      "        periods = t[1:] - t[:-1]\n",
      "    else:    \n",
      "    \n",
      "        period = np.zeros(np.size(pos,axis=0))\n",
      "        for i in index_maxima[0]:\n",
      "            period[i] = np.average( (index_maxima[1][index_maxima[0]==i][1: ] -\\\n",
      "                                     index_maxima[1][index_maxima[0]==i][:-1] ) * dt)\n",
      "    \n",
      "    \n",
      "    return period\n",
      "\n",
      "R_total = (ix*ix + iy*iy + iz*iz)**0.5\n",
      "max_height = np.max(np.abs(iz) , axis=1)\n",
      "pericenter = np.min(R_total, axis=1)\n",
      "apocenter  = np.max(R_total, axis=1)\n",
      "\n",
      "# dt is in units of seconds... convert periods to megayears in output\n",
      "P_r   = (find_period((ix**2 + iy**2)**0.5, dt, axis=1) * u.second).to(u.megayear).value  \n",
      "P_phi = (find_period(np.arctan(ix/iy), dt, axis=1)*u.second).to(u.megayear).value\n",
      "P_z   = (find_period(iz,dt,axis=1) * u.second).to(u.megayear).value\n",
      "\n"
     ],
     "language": "python",
     "metadata": {},
     "outputs": []
    },
    {
     "cell_type": "code",
     "collapsed": false,
     "input": [
      "print np.size(max_height), np.size(pericenter),np.size(apocenter), np.size(P_r), np.size(P_phi), np.size(P_z)\n",
      "print np.shape(max_height), np.shape(pericenter),np.shape(apocenter), np.shape(P_r), np.shape(P_phi), np.shape(P_z)\n"
     ],
     "language": "python",
     "metadata": {},
     "outputs": []
    },
    {
     "cell_type": "code",
     "collapsed": false,
     "input": [
      "\n",
      "df = pd.DataFrame( zip(max_height,pericenter,apocenter, P_r, P_phi, P_z),\n",
      "               columns = ['|z|', 'pericenter', 'apocenter', r'P$_r$', r'P$_\\phi$', r'P$_z$' ])\n",
      "scatter_matrix(df, alpha=alpha, figsize=(12,12), diagonal='hist', s = size)"
     ],
     "language": "python",
     "metadata": {},
     "outputs": []
    },
    {
     "cell_type": "code",
     "collapsed": false,
     "input": [
      "z_max_index = np.where(iz == np.max(iz))[0][0]\n",
      "\n",
      "plt.plot(ix[z_max_index],iz[z_max_index])"
     ],
     "language": "python",
     "metadata": {},
     "outputs": []
    },
    {
     "cell_type": "markdown",
     "metadata": {},
     "source": [
      "This orbit seems a little strange and I think is making looking at the distribution plots hard. I'm going to make a cut on maximum z to just look at the stuff that have a reasonable maximum height in the disk. I am going to arbitrarily look at those that stay within 1.5 kpc of the disk. This really only cuts out a handful of stars (< 10). I also make a cut for reasonable apocenters at 20 kpc, removing another < 10 stars."
     ]
    },
    {
     "cell_type": "code",
     "collapsed": false,
     "input": [
      "select_z = (max_height < 1.5) * (apocenter < 20.0)\n",
      "\n",
      "print np.size(max_height[select_z])\n"
     ],
     "language": "python",
     "metadata": {},
     "outputs": []
    },
    {
     "cell_type": "code",
     "collapsed": false,
     "input": [
      "\n",
      "\n",
      "\n",
      "df = pd.DataFrame( zip(max_height[select_z],pericenter[select_z],apocenter[select_z], P_r[select_z], P_phi[select_z], P_z[select_z]),\n",
      "               columns = ['|z|', 'pericenter', 'apocenter', r'P$_r$', r'P$_\\phi$', r'P$_z$' ])\n",
      "scatter_matrix(df, alpha=alpha, figsize=(12,12), diagonal='hist', s = size)"
     ],
     "language": "python",
     "metadata": {},
     "outputs": []
    },
    {
     "cell_type": "markdown",
     "metadata": {},
     "source": [
      "After the cut, things look quite a bit better. A majority of the stars seem to reside within 0.6 kpc of z = 0, corresponding to a thickness of 1.2 kpc, which isn't unreasonable. The resulting orbits seem somewhat realistic (though ultimately this potential is an imperfect representation of the MW). Anyway. From these plots, apocenter and pericenter are generally correlated, with most of the points faling on a line where pericenter decreases with increasing apocenter. However, there seems to be two populations here, with one having a much steeper falloff than the other. There are some interesting features in the distribution of radial periods, having two very distinct peaks, that how themselvs in the plots of the other parameters. The azimuthal versus radial period lines in a defined region that appears slightly positively correlated, but exhibits some stripes. There appears also a slight positive correlation with z period and radial and azimuthal period. \n",
      "\n",
      "Most of these stars have a pericenter near 6 kpc and an apocenter near 8-9 kpc. Radial periods of either 110 Myr or around 140 Myr, azimuthal periods of around 105 Myr, and z periods of around 60 Myr. "
     ]
    },
    {
     "cell_type": "code",
     "collapsed": false,
     "input": [],
     "language": "python",
     "metadata": {},
     "outputs": []
    }
   ],
   "metadata": {}
  }
 ]
}